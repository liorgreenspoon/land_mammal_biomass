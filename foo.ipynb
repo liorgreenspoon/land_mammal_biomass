{
 "cells": [
  {
   "cell_type": "code",
   "execution_count": 2,
   "metadata": {},
   "outputs": [],
   "source": [
    "import pandas as pd\n",
    "one = pd.read_csv('0to1001.csv')\n",
    "two = pd.read_csv('1001to2000.csv')\n",
    "three = pd.read_csv('2001to3000.csv')\n",
    "four = pd.read_csv('3001to4000.csv')\n",
    "five = pd.read_csv('4001toEND.csv')"
   ]
  },
  {
   "cell_type": "code",
   "execution_count": 8,
   "metadata": {},
   "outputs": [],
   "source": [
    "pd.concat([one,two,three,four,five]).drop(['Unnamed: 0','Unnamed: 0.1'],axis = 1).to_csv('env_params_for_tetra_density.csv')"
   ]
  }
 ],
 "metadata": {
  "kernelspec": {
   "display_name": "Python 3",
   "language": "python",
   "name": "python3"
  },
  "language_info": {
   "codemirror_mode": {
    "name": "ipython",
    "version": 3
   },
   "file_extension": ".py",
   "mimetype": "text/x-python",
   "name": "python",
   "nbconvert_exporter": "python",
   "pygments_lexer": "ipython3",
   "version": "3.7.3"
  }
 },
 "nbformat": 4,
 "nbformat_minor": 2
}
