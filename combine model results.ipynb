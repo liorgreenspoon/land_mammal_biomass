{
 "cells": [
  {
   "cell_type": "code",
   "execution_count": 2,
   "metadata": {},
   "outputs": [],
   "source": [
    "import pandas as pd"
   ]
  },
  {
   "cell_type": "code",
   "execution_count": 1,
   "metadata": {},
   "outputs": [],
   "source": [
    "low_coverage_orders = [\"MACROSCELIDEA\",\"LAGOMORPHA\",\"CHIROPTERA\",\"RODENTIA\",\n",
    "                       \"AFROSORICIDA\",\"DIDELPHIMORPHIA\",\"EULIPOTYPHLA\",\"SCANDENTIA\", \"CINGULATA\",\n",
    "                       \"DERMOPTERA\",\"HYRACOIDEA\",\"MICROBIOTHERIA\",\"MONOTREMATA\",\"NOTORYCTEMORPHIA\", \n",
    "                       \"PAUCITUBERCULATA\",\"PHOLIDOTA\",\"PILOSA\",\"SIRENIA\",\"TUBULIDENTATA\"]"
   ]
  },
  {
   "cell_type": "code",
   "execution_count": null,
   "metadata": {},
   "outputs": [],
   "source": [
    "results_df = pd.read_csv('')"
   ]
  },
  {
   "cell_type": "code",
   "execution_count": null,
   "metadata": {},
   "outputs": [],
   "source": [
    "results_df = result_df.assign(arith_mean_pop = \n",
    "                              arith_mean_mass\n",
    "                             geo_mean_pop = \n",
    "                             geo_mean_mass = )"
   ]
  },
  {
   "cell_type": "code",
   "execution_count": 31,
   "metadata": {},
   "outputs": [
    {
     "data": {
      "text/plain": [
       "4519"
      ]
     },
     "execution_count": 31,
     "metadata": {},
     "output_type": "execute_result"
    }
   ],
   "source": [
    "all_data= pd.read_csv('to_predict_lior.csv')\n",
    "len(all_data)"
   ]
  },
  {
   "cell_type": "code",
   "execution_count": 32,
   "metadata": {},
   "outputs": [
    {
     "data": {
      "text/plain": [
       "4268"
      ]
     },
     "execution_count": 32,
     "metadata": {},
     "output_type": "execute_result"
    }
   ],
   "source": [
    "training= pd.read_csv('santini_predictions_by_eyal.csv')\n",
    "len(training)"
   ]
  },
  {
   "cell_type": "code",
   "execution_count": 33,
   "metadata": {},
   "outputs": [],
   "source": [
    "to_predict = list(set(all_data.binomial)-set(training.Binomial))"
   ]
  },
  {
   "cell_type": "code",
   "execution_count": 34,
   "metadata": {},
   "outputs": [
    {
     "data": {
      "text/plain": [
       "251"
      ]
     },
     "execution_count": 34,
     "metadata": {},
     "output_type": "execute_result"
    }
   ],
   "source": [
    "len(to_predict)"
   ]
  },
  {
   "cell_type": "code",
   "execution_count": 35,
   "metadata": {},
   "outputs": [],
   "source": [
    "all_data[all_data.binomial.isin(to_predict)].to_csv('missing_tetra_density_species.csv')"
   ]
  },
  {
   "cell_type": "code",
   "execution_count": 36,
   "metadata": {},
   "outputs": [
    {
     "data": {
      "text/html": [
       "<div>\n",
       "<style scoped>\n",
       "    .dataframe tbody tr th:only-of-type {\n",
       "        vertical-align: middle;\n",
       "    }\n",
       "\n",
       "    .dataframe tbody tr th {\n",
       "        vertical-align: top;\n",
       "    }\n",
       "\n",
       "    .dataframe thead th {\n",
       "        text-align: right;\n",
       "    }\n",
       "</style>\n",
       "<table border=\"1\" class=\"dataframe\">\n",
       "  <thead>\n",
       "    <tr style=\"text-align: right;\">\n",
       "      <th></th>\n",
       "      <th>Unnamed: 0</th>\n",
       "      <th>binomial</th>\n",
       "      <th>Range</th>\n",
       "      <th>AdultBodyMass_g</th>\n",
       "      <th>Red List status</th>\n",
       "      <th>TrophicLevel</th>\n",
       "      <th>Order</th>\n",
       "    </tr>\n",
       "  </thead>\n",
       "  <tbody>\n",
       "    <tr>\n",
       "      <th>0</th>\n",
       "      <td>0</td>\n",
       "      <td>Abditomys latidens</td>\n",
       "      <td>7.882273e+02</td>\n",
       "      <td>268.09</td>\n",
       "      <td>DD</td>\n",
       "      <td>Herbivore</td>\n",
       "      <td>RODENTIA</td>\n",
       "    </tr>\n",
       "    <tr>\n",
       "      <th>1</th>\n",
       "      <td>1</td>\n",
       "      <td>Abeomelomys sevia</td>\n",
       "      <td>9.683637e+03</td>\n",
       "      <td>54.88</td>\n",
       "      <td>LC</td>\n",
       "      <td>Omnivore</td>\n",
       "      <td>RODENTIA</td>\n",
       "    </tr>\n",
       "    <tr>\n",
       "      <th>2</th>\n",
       "      <td>2</td>\n",
       "      <td>Abrawayaomys ruschii</td>\n",
       "      <td>5.073468e+04</td>\n",
       "      <td>62.99</td>\n",
       "      <td>LC</td>\n",
       "      <td>Omnivore</td>\n",
       "      <td>RODENTIA</td>\n",
       "    </tr>\n",
       "    <tr>\n",
       "      <th>3</th>\n",
       "      <td>3</td>\n",
       "      <td>Abrocoma bennettii</td>\n",
       "      <td>1.248960e+05</td>\n",
       "      <td>250.50</td>\n",
       "      <td>LC</td>\n",
       "      <td>Herbivore</td>\n",
       "      <td>RODENTIA</td>\n",
       "    </tr>\n",
       "    <tr>\n",
       "      <th>4</th>\n",
       "      <td>4</td>\n",
       "      <td>Abrocoma boliviensis</td>\n",
       "      <td>6.473921e+01</td>\n",
       "      <td>158.00</td>\n",
       "      <td>CR</td>\n",
       "      <td>Herbivore</td>\n",
       "      <td>RODENTIA</td>\n",
       "    </tr>\n",
       "    <tr>\n",
       "      <th>...</th>\n",
       "      <td>...</td>\n",
       "      <td>...</td>\n",
       "      <td>...</td>\n",
       "      <td>...</td>\n",
       "      <td>...</td>\n",
       "      <td>...</td>\n",
       "      <td>...</td>\n",
       "    </tr>\n",
       "    <tr>\n",
       "      <th>4514</th>\n",
       "      <td>4903</td>\n",
       "      <td>Zygodontomys brevicauda</td>\n",
       "      <td>1.694720e+06</td>\n",
       "      <td>52.22</td>\n",
       "      <td>LC</td>\n",
       "      <td>Herbivore</td>\n",
       "      <td>RODENTIA</td>\n",
       "    </tr>\n",
       "    <tr>\n",
       "      <th>4515</th>\n",
       "      <td>4904</td>\n",
       "      <td>Zygodontomys brunneus</td>\n",
       "      <td>7.573770e+04</td>\n",
       "      <td>75.59</td>\n",
       "      <td>LC</td>\n",
       "      <td>Herbivore</td>\n",
       "      <td>RODENTIA</td>\n",
       "    </tr>\n",
       "    <tr>\n",
       "      <th>4516</th>\n",
       "      <td>4905</td>\n",
       "      <td>Zygogeomys trichopus</td>\n",
       "      <td>2.248715e+03</td>\n",
       "      <td>473.54</td>\n",
       "      <td>EN</td>\n",
       "      <td>Herbivore</td>\n",
       "      <td>RODENTIA</td>\n",
       "    </tr>\n",
       "    <tr>\n",
       "      <th>4517</th>\n",
       "      <td>4906</td>\n",
       "      <td>Zyzomys argurus</td>\n",
       "      <td>1.188571e+06</td>\n",
       "      <td>40.42</td>\n",
       "      <td>LC</td>\n",
       "      <td>Omnivore</td>\n",
       "      <td>RODENTIA</td>\n",
       "    </tr>\n",
       "    <tr>\n",
       "      <th>4518</th>\n",
       "      <td>4910</td>\n",
       "      <td>Zyzomys woodwardi</td>\n",
       "      <td>3.559928e+04</td>\n",
       "      <td>95.02</td>\n",
       "      <td>LC</td>\n",
       "      <td>Herbivore</td>\n",
       "      <td>RODENTIA</td>\n",
       "    </tr>\n",
       "  </tbody>\n",
       "</table>\n",
       "<p>4519 rows × 7 columns</p>\n",
       "</div>"
      ],
      "text/plain": [
       "      Unnamed: 0                 binomial         Range  AdultBodyMass_g  \\\n",
       "0              0       Abditomys latidens  7.882273e+02           268.09   \n",
       "1              1        Abeomelomys sevia  9.683637e+03            54.88   \n",
       "2              2     Abrawayaomys ruschii  5.073468e+04            62.99   \n",
       "3              3       Abrocoma bennettii  1.248960e+05           250.50   \n",
       "4              4     Abrocoma boliviensis  6.473921e+01           158.00   \n",
       "...          ...                      ...           ...              ...   \n",
       "4514        4903  Zygodontomys brevicauda  1.694720e+06            52.22   \n",
       "4515        4904    Zygodontomys brunneus  7.573770e+04            75.59   \n",
       "4516        4905     Zygogeomys trichopus  2.248715e+03           473.54   \n",
       "4517        4906          Zyzomys argurus  1.188571e+06            40.42   \n",
       "4518        4910        Zyzomys woodwardi  3.559928e+04            95.02   \n",
       "\n",
       "     Red List status TrophicLevel     Order  \n",
       "0                 DD    Herbivore  RODENTIA  \n",
       "1                 LC     Omnivore  RODENTIA  \n",
       "2                 LC     Omnivore  RODENTIA  \n",
       "3                 LC    Herbivore  RODENTIA  \n",
       "4                 CR    Herbivore  RODENTIA  \n",
       "...              ...          ...       ...  \n",
       "4514              LC    Herbivore  RODENTIA  \n",
       "4515              LC    Herbivore  RODENTIA  \n",
       "4516              EN    Herbivore  RODENTIA  \n",
       "4517              LC     Omnivore  RODENTIA  \n",
       "4518              LC    Herbivore  RODENTIA  \n",
       "\n",
       "[4519 rows x 7 columns]"
      ]
     },
     "execution_count": 36,
     "metadata": {},
     "output_type": "execute_result"
    }
   ],
   "source": [
    "all_data"
   ]
  }
 ],
 "metadata": {
  "kernelspec": {
   "display_name": "Python 3",
   "language": "python",
   "name": "python3"
  }
 },
 "nbformat": 4,
 "nbformat_minor": 2
}
