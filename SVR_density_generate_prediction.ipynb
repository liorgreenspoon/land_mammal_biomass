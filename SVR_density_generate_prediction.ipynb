{
 "cells": [
  {
   "cell_type": "code",
   "execution_count": 1,
   "metadata": {},
   "outputs": [
    {
     "name": "stdout",
     "output_type": "stream",
     "text": [
      "Once deleted, variables cannot be recovered. Proceed (y/[n])? y\n"
     ]
    },
    {
     "name": "stderr",
     "output_type": "stream",
     "text": [
      "ERROR:root:Invalid alias: The name clear can't be aliased because it is another magic command.\n",
      "ERROR:root:Invalid alias: The name more can't be aliased because it is another magic command.\n",
      "ERROR:root:Invalid alias: The name less can't be aliased because it is another magic command.\n",
      "ERROR:root:Invalid alias: The name man can't be aliased because it is another magic command.\n"
     ]
    }
   ],
   "source": [
    "%reset"
   ]
  },
  {
   "cell_type": "code",
   "execution_count": 10,
   "metadata": {},
   "outputs": [],
   "source": [
    "%run -m svm_density\n",
    "import pandas as pd\n",
    "data, cat_features, cont_features, label_name =preproc_data(read_data())\n",
    "training_df = data.loc['labeled']"
   ]
  },
  {
   "cell_type": "code",
   "execution_count": 3,
   "metadata": {},
   "outputs": [],
   "source": [
    "%run -m svm_density\n",
    "\n",
    "n_models = 1000\n",
    "label_name = ['log_density']\n",
    "result_df = training_df[['log_density','body_mass','common_name','range','log_range']]\n",
    "rmse_density = np.zeros(n_models)\n",
    "\n",
    "for model in range(0,n_models):\n",
    "    test_output, rmse = svr(training_df, cat_features,cont_features, label_name, model)\n",
    "    rmse_density[model] = rmse\n",
    "    result_df = pd.concat([result_df, test_output.predictions], axis=1, sort=False)"
   ]
  },
  {
   "cell_type": "code",
   "execution_count": 20,
   "metadata": {},
   "outputs": [
    {
     "name": "stdout",
     "output_type": "stream",
     "text": [
      "Total biomass = 9.04 [Mt]\n",
      "RMSE = 0.73\n"
     ]
    }
   ],
   "source": [
    "%run -m svm_density\n",
    "mean_rmse = np.mean(rmse_density)\n",
    "predictions = svr_predict(data, cat_features, cont_features, label_name, mean_rmse)\n",
    "predictions = predictions.sort_values(by = 'total_mass_Mt', ascending = False)\n",
    "predictions.to_csv('svr_data/predictions_from_global.csv')\n",
    "\n",
    "print('Total biomass = ' + str(round(predictions.total_mass_Mt.sum(),2))+ ' [Mt]')\n",
    "print('RMSE = ' + str(round(np.mean(rmse_density),2)))"
   ]
  }
 ],
 "metadata": {
  "kernelspec": {
   "display_name": "Python 3",
   "language": "python",
   "name": "python3"
  },
  "language_info": {
   "codemirror_mode": {
    "name": "ipython",
    "version": 3
   },
   "file_extension": ".py",
   "mimetype": "text/x-python",
   "name": "python",
   "nbconvert_exporter": "python",
   "pygments_lexer": "ipython3",
   "version": "3.7.3"
  }
 },
 "nbformat": 4,
 "nbformat_minor": 2
}
