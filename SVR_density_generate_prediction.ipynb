{
 "cells": [
  {
   "cell_type": "code",
   "execution_count": 47,
   "metadata": {},
   "outputs": [
    {
     "name": "stdout",
     "output_type": "stream",
     "text": [
      "Once deleted, variables cannot be recovered. Proceed (y/[n])? y\n"
     ]
    },
    {
     "name": "stderr",
     "output_type": "stream",
     "text": [
      "ERROR:root:Invalid alias: The name clear can't be aliased because it is another magic command.\n",
      "ERROR:root:Invalid alias: The name more can't be aliased because it is another magic command.\n",
      "ERROR:root:Invalid alias: The name less can't be aliased because it is another magic command.\n",
      "ERROR:root:Invalid alias: The name man can't be aliased because it is another magic command.\n"
     ]
    }
   ],
   "source": [
    "%reset"
   ]
  },
  {
   "cell_type": "code",
   "execution_count": 21,
   "metadata": {},
   "outputs": [],
   "source": [
    "%run -m svm_density\n",
    "import pandas as pd\n",
    "data, cat_features, cont_features, label_name =preproc_data(read_data())\n",
    "dataset = data.loc['labeled']\n",
    "not_labeled = data.loc['not_labeled']"
   ]
  },
  {
   "cell_type": "code",
   "execution_count": 22,
   "metadata": {},
   "outputs": [],
   "source": [
    "%run -m svm_density\n",
    "\n",
    "n_models = 1000\n",
    "label_name = ['log_density']\n",
    "result_df = dataset[['log_density','body_mass','common_name','range','log_range']]\n",
    "rmse_density = np.zeros(n_models)\n",
    "\n",
    "for model in range(0,n_models):\n",
    "    test_output, rmse = svr(dataset, cat_features,cont_features, label_name, model)\n",
    "    rmse_density[model] = rmse\n",
    "    result_df = pd.concat([result_df, test_output.predictions], axis=1, sort=False)"
   ]
  },
  {
   "cell_type": "code",
   "execution_count": 26,
   "metadata": {},
   "outputs": [
    {
     "name": "stdout",
     "output_type": "stream",
     "text": [
      "Total biomass = 8.19 [Mt]\n",
      "RMSE = 0.72\n"
     ]
    }
   ],
   "source": [
    "%run -m svm_density\n",
    "predictions = svr_predict(data, cat_features, cont_features, label_name)\n",
    "predictions = predictions.sort_values(by = 'total_mass_Mt', ascending = False)\n",
    "predictions.sort_values(by = 'total_mass_Mt',ascending = False).to_csv('predictions_from_global.csv')\n",
    "print('Total biomass = ' + str(round(predictions.total_mass_Mt.sum(),2))+ ' [Mt]')\n",
    "print('RMSE = ' + str(round(np.mean(rmse_density),2)))"
   ]
  }
 ],
 "metadata": {
  "kernelspec": {
   "display_name": "Python 3",
   "language": "python",
   "name": "python3"
  },
  "language_info": {
   "codemirror_mode": {
    "name": "ipython",
    "version": 3
   },
   "file_extension": ".py",
   "mimetype": "text/x-python",
   "name": "python",
   "nbconvert_exporter": "python",
   "pygments_lexer": "ipython3",
   "version": "3.7.3"
  }
 },
 "nbformat": 4,
 "nbformat_minor": 2
}
