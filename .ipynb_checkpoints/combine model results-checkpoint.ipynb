{
 "cells": [
  {
   "cell_type": "code",
   "execution_count": 2,
   "metadata": {},
   "outputs": [],
   "source": [
    "import pandas as pd"
   ]
  },
  {
   "cell_type": "code",
   "execution_count": 1,
   "metadata": {},
   "outputs": [],
   "source": [
    "low_coverage_orders = [\"MACROSCELIDEA\",\"LAGOMORPHA\",\"CHIROPTERA\",\"RODENTIA\",\n",
    "                       \"AFROSORICIDA\",\"DIDELPHIMORPHIA\",\"EULIPOTYPHLA\",\"SCANDENTIA\", \"CINGULATA\",\n",
    "                       \"DERMOPTERA\",\"HYRACOIDEA\",\"MICROBIOTHERIA\",\"MONOTREMATA\",\"NOTORYCTEMORPHIA\", \n",
    "                       \"PAUCITUBERCULATA\",\"PHOLIDOTA\",\"PILOSA\",\"SIRENIA\",\"TUBULIDENTATA\"]"
   ]
  },
  {
   "cell_type": "code",
   "execution_count": null,
   "metadata": {},
   "outputs": [],
   "source": [
    "svr_results = pd.read_csv('')\n",
    "tet_dens_results = pd.read_csv('')\n",
    "data = pd.read_csv('')"
   ]
  }
 ],
 "metadata": {
  "kernelspec": {
   "display_name": "Python 3",
   "language": "python",
   "name": "python3"
  },
  "language_info": {
   "codemirror_mode": {
    "name": "ipython",
    "version": 3
   },
   "file_extension": ".py",
   "mimetype": "text/x-python",
   "name": "python",
   "nbconvert_exporter": "python",
   "pygments_lexer": "ipython3",
   "version": "3.7.3"
  }
 },
 "nbformat": 4,
 "nbformat_minor": 2
}
