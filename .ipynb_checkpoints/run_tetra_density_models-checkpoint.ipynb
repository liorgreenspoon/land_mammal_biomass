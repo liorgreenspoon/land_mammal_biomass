{
 "cells": [
  {
   "cell_type": "code",
   "execution_count": 23,
   "metadata": {},
   "outputs": [
    {
     "name": "stdout",
     "output_type": "stream",
     "text": [
      "Once deleted, variables cannot be recovered. Proceed (y/[n])? y\n"
     ]
    },
    {
     "name": "stderr",
     "output_type": "stream",
     "text": [
      "ERROR:root:Invalid alias: The name clear can't be aliased because it is another magic command.\n",
      "ERROR:root:Invalid alias: The name more can't be aliased because it is another magic command.\n",
      "ERROR:root:Invalid alias: The name less can't be aliased because it is another magic command.\n",
      "ERROR:root:Invalid alias: The name man can't be aliased because it is another magic command.\n"
     ]
    }
   ],
   "source": [
    "%reset"
   ]
  },
  {
   "cell_type": "code",
   "execution_count": 1,
   "metadata": {},
   "outputs": [],
   "source": [
    "import pandas as pd\n",
    "import numpy as np\n",
    "\n",
    "# pd.set_option('display.max_rows', 100)\n",
    "# missing_data"
   ]
  },
  {
   "cell_type": "code",
   "execution_count": 2,
   "metadata": {},
   "outputs": [],
   "source": [
    "def calculate_density(x):\n",
    "    santini_models_copy = santini_models.copy()\n",
    "    santini_models_copy = santini_models_copy.multiply([1,x.log_BM,x.log_BM_2,x.log_BM_3,x.Herbivore,\n",
    "                                                        x.Omnivore,x.log_npp,x.log_npp_2,x.Pwq,x.Pwq_2,\n",
    "                                                        x.Pcv,x.Pcv_2], \n",
    "                                                       axis = 'columns')\n",
    "    santini_models_copy['density'] = 10**santini_models_copy.sum(axis = 1)\n",
    "    return np.mean(santini_models_copy['density'])"
   ]
  },
  {
   "cell_type": "code",
   "execution_count": 16,
   "metadata": {},
   "outputs": [],
   "source": [
    "global santini_models\n",
    "santini_models = pd.read_csv('tetra_density_data/santini_models.csv').fillna(0)\n",
    "\n",
    "env_params = pd.read_csv('tetra_density_data/env_params_for_tetra_density.csv').iloc[0:10000]\n",
    "env_params.binomial = env_params.binomial.str.replace('_',' ')\n",
    "env_params.loc[env_params.npp < 0,'npp'] = 1\n",
    "env_params['log_npp'] = np.log10(env_params['npp'])\n",
    "env_params = env_params[env_params.annual_mean_temp >= -100]"
   ]
  },
  {
   "cell_type": "code",
   "execution_count": 18,
   "metadata": {},
   "outputs": [],
   "source": [
    "species_params = pd.read_csv('tetra_density_data/all_species_list.csv')\n",
    "species_params = pd.concat([species_params,(pd.get_dummies(species_params.TrophicLevel))],axis = 1)\n",
    "species_params = species_params.drop(['Range','Red List status','Order','TrophicLevel',\n",
    "                                  'NotAssigned','Carnivore','Insectivore'], axis = 1)\n",
    "species_params['log_BM'] = np.log10(species_params['AdultBodyMass_g'])\n",
    "\n",
    "all_params = env_params.merge(species_params, on = 'binomial').drop(['Unnamed: 0'],axis = 1)\n",
    "all_params = all_params.rename({'annual_mean_temp':'Tm','prec_seasonality':'Pcv',\n",
    "                                'prec_warmest_quarter':'Pwq','area':'area_km_2'}, axis = 1)\n",
    "\n",
    "all_params['area_ha'] = all_params['area_km_2']/100\n",
    "\n",
    "all_params = all_params.assign(log_BM_2 = all_params.log_BM**2, log_BM_3 = all_params.log_BM**3,\n",
    "                               Pwq_2 = all_params.Pwq**2,\n",
    "                               log_npp_2 = all_params.log_npp**2,\n",
    "                               Pcv_2 = all_params.Pcv**2)"
   ]
  },
  {
   "cell_type": "code",
   "execution_count": 19,
   "metadata": {},
   "outputs": [],
   "source": [
    "all_params['density'] = all_params[['log_BM','log_BM_2','log_BM_3','Herbivore','Omnivore','log_npp',\n",
    "                 'log_npp_2','Pwq','Pwq_2','Pcv','Pcv_2']].apply(calculate_density,axis = 1)\n",
    "all_params['santini_population'] = all_params['density']*all_params['area_ha']*10**(1.0**2/2*np.log(10))\n",
    "all_params['santini_total_mass_Mt'] = all_params['santini_population']*all_params['AdultBodyMass_g']*10**(-12)"
   ]
  },
  {
   "cell_type": "code",
   "execution_count": 20,
   "metadata": {},
   "outputs": [],
   "source": [
    "output_df = all_params[['binomial','santini_population','santini_total_mass_Mt']]"
   ]
  },
  {
   "cell_type": "code",
   "execution_count": 21,
   "metadata": {},
   "outputs": [],
   "source": [
    "output_df = output_df.groupby(['binomial']).sum()"
   ]
  },
  {
   "cell_type": "code",
   "execution_count": 23,
   "metadata": {},
   "outputs": [],
   "source": [
    "output_df.to_csv('santini_output.csv')"
   ]
  }
 ],
 "metadata": {
  "kernelspec": {
   "display_name": "Python 3",
   "language": "python",
   "name": "python3"
  },
  "language_info": {
   "codemirror_mode": {
    "name": "ipython",
    "version": 3
   },
   "file_extension": ".py",
   "mimetype": "text/x-python",
   "name": "python",
   "nbconvert_exporter": "python",
   "pygments_lexer": "ipython3",
   "version": "3.7.3"
  }
 },
 "nbformat": 4,
 "nbformat_minor": 2
}
