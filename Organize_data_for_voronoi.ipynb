{
 "cells": [
  {
   "cell_type": "code",
   "execution_count": 1,
   "metadata": {},
   "outputs": [],
   "source": [
    "import pandas as pd"
   ]
  },
  {
   "cell_type": "code",
   "execution_count": 166,
   "metadata": {},
   "outputs": [],
   "source": [
    "terrestrial = pd.read_csv('Terrestrial.csv')\n",
    "marine = pd.read_csv('Marine.csv')\n",
    "domesticated =pd.read_csv('Domesticated_and_human.csv')\n",
    "\n",
    "marine_dict = {'Balaenidae':'Baleen whales', \n",
    "               'Balaenopteridae':'Baleen whales', \n",
    "               'Neobalaenidae':'Baleen whales', \n",
    "               'Eschrichtiidae':'Baleen whales',\n",
    "               'Physeteridae':'Sperm whales',\n",
    "               'Kogiidae':'Sperm whales',\n",
    "               'Ziphiidae':'Beaked whales',\n",
    "               'Monodontidae':'Dolphins and Porpoises', \n",
    "               'Platanistidae':'Dolphins and Porpoises', \n",
    "               'Iniidae':'Dolphins and Porpoises', \n",
    "               'Lipotidae':'Dolphins and Porpoises', \n",
    "               'Delphinidae':'Dolphins and Porpoises', \n",
    "               'Pontoporiidae':'Dolphins and Porpoises', \n",
    "               'Phocoenidae':'Dolphins and Porpoises',\n",
    "               'Trichechidae':'Sea cows',\n",
    "               'Dugongidae':'Sea cows',\n",
    "               'Otariidae':'Otaries',\n",
    "               'Phocidae':'True seals',\n",
    "               'Ursidae':'Other Carnivores', \n",
    "               'Mustelidae':'Other Carnivores', \n",
    "               'Odobenidae':'Other Carnivores'\n",
    "                }\n",
    "\n",
    "terrestrial_dict = {'Proboscidae':'Elephants',\n",
    "                    'Perissodactyla':'Odd-toed hoofed mammals',\n",
    "                    'Diprotodontia':'Pouched mammals',\n",
    "                    'Cetartiodactyla':'Even-toed hoofed mammals',\n",
    "                    'Carnivora':'Carnivores',\n",
    "                    'Primates':'Primates',\n",
    "                    'Eulipotyphla':'Insect-eaters',\n",
    "                    'Chiroptera':'Bats',\n",
    "                    'Rodentia':'Rodents'\n",
    "                   }\n",
    "\n",
    "marine_dict = {k.upper():v for k,v in marine_dict.items()}\n",
    "terrestrial_dict = {k.upper():v for k,v in terrestrial_dict.items()}\n",
    "\n",
    "def subset_and_rename(df, col_name, common_names_dict,df_type):\n",
    "    if dict!=0:\n",
    "            df = df.replace({col_name: common_names_dict})\n",
    "    df = df.rename({col_name:'Level_2','total_mass':'mass'}, axis = 1)\n",
    "    df = df.groupby('Level_2').agg('sum').reset_index()\n",
    "    df['Level_1']=df_type\n",
    "    df = df[['Level_1','Level_2','mass']]\n",
    "    \n",
    "    return df"
   ]
  },
  {
   "cell_type": "code",
   "execution_count": 167,
   "metadata": {},
   "outputs": [],
   "source": [
    "## All terrestrial Orders not in dictionary are defined as \"Other\"\n",
    "terrestrial.loc[~terrestrial['Order'].isin(terrestrial_dict.keys()), 'Order'] = 'Other'\n",
    "\n",
    "marine = subset_and_rename(marine, 'Family',marine_dict, 'Marine')\n",
    "terrestrial = subset_and_rename(terrestrial, 'Order',terrestrial_dict,'Terrestrial')\n",
    "domesticated =  subset_and_rename(domesticated, 'name',0, 'Domesticated')\n",
    "\n",
    "all_species = pd.concat([marine,terrestrial,domesticated])\n",
    "all_species.loc[all_species['Level_2']=='Human', 'Level_1'] = 'Human'\n",
    "all_species.to_csv('hierarchy_for_voronoi.csv')"
   ]
  },
  {
   "cell_type": "code",
   "execution_count": null,
   "metadata": {},
   "outputs": [],
   "source": []
  }
 ],
 "metadata": {
  "kernelspec": {
   "display_name": "Python 3",
   "language": "python",
   "name": "python3"
  },
  "language_info": {
   "codemirror_mode": {
    "name": "ipython",
    "version": 3
   },
   "file_extension": ".py",
   "mimetype": "text/x-python",
   "name": "python",
   "nbconvert_exporter": "python",
   "pygments_lexer": "ipython3",
   "version": "3.7.3"
  }
 },
 "nbformat": 4,
 "nbformat_minor": 2
}
